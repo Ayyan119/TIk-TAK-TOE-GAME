{
 "cells": [
  {
   "cell_type": "markdown",
   "metadata": {},
   "source": [
    "___\n",
    "\n",
    "<a href='https://www.udemy.com/user/joseportilla/'><img src='../Pierian_Data_Logo.png'/></a>\n",
    "___\n",
    "<center><em>Content Copyright by Pierian Data</em></center>"
   ]
  },
  {
   "cell_type": "markdown",
   "metadata": {},
   "source": [
    "# Milestone Project 1: Walkthrough Steps Workbook\n",
    "\n",
    "Below is a set of steps for you to follow to try to create the Tic Tac Toe Milestone Project game!"
   ]
  },
  {
   "cell_type": "markdown",
   "metadata": {},
   "source": [
    "#### Some suggested tools before you get started:\n",
    "To take input from a user:\n",
    "\n",
    "    player1 = input(\"Please pick a marker 'X' or 'O'\")\n",
    "    \n",
    "Note that input() takes in a string. If you need an integer value, use\n",
    "\n",
    "    position = int(input('Please enter a number'))\n",
    "    \n",
    "<br>To clear the screen between moves:\n",
    "\n",
    "    from IPython.display import clear_output\n",
    "    clear_output()\n",
    "    \n",
    "Note that clear_output() will only work in jupyter. To clear the screen in other IDEs, consider:\n",
    "\n",
    "    print('\\n'*100)\n",
    "    \n",
    "This scrolls the previous board up out of view. Now on to the program!"
   ]
  },
  {
   "cell_type": "markdown",
   "metadata": {},
   "source": [
    "**Step 1: Write a function that can print out a board. Set up your board as a list, where each index 1-9 corresponds with a number on a number pad, so you get a 3 by 3 board representation.**"
   ]
  },
  {
   "cell_type": "code",
   "execution_count": 1,
   "metadata": {
    "jp-MarkdownHeadingCollapsed": true
   },
   "outputs": [],
   "source": [
    "from IPython.display import clear_output\n",
    "\n",
    "def display_board(board):\n",
    "    \n",
    "    print(\"   |   |\")\n",
    "    print(\" \"+board[1]+\" | \"+board[2]+\" | \"+board[3])\n",
    "    print(\"   |   |\")\n",
    "    print(\"-------------\")\n",
    "    print(\"   |   |\")\n",
    "    print(\" \"+board[4]+\" | \"+board[5]+\" | \"+board[6])\n",
    "    print(\"   |   |\")\n",
    "    print(\"-------------\")\n",
    "    print(\"   |   |\")\n",
    "    print(\" \"+board[7]+\" | \"+board[8]+\" | \"+board[9])\n",
    "    print(\"   |   |\")"
   ]
  },
  {
   "cell_type": "markdown",
   "metadata": {},
   "source": [
    "**TEST Step 1:** run your function on a test version of the board list, and make adjustments as necessary"
   ]
  },
  {
   "cell_type": "code",
   "execution_count": 2,
   "metadata": {},
   "outputs": [
    {
     "name": "stdout",
     "output_type": "stream",
     "text": [
      "   |   |\n",
      " X | O | X\n",
      "   |   |\n",
      "-------------\n",
      "   |   |\n",
      " O | X |  \n",
      "   |   |\n",
      "-------------\n",
      "   |   |\n",
      " X | O | X\n",
      "   |   |\n"
     ]
    }
   ],
   "source": [
    "test_board = ['#','X','O','X','O','X',' ','X','O','X']\n",
    "display_board(test_board)"
   ]
  },
  {
   "cell_type": "markdown",
   "metadata": {},
   "source": [
    "**Step 2: Write a function that can take in a player input and assign their marker as 'X' or 'O'. Think about using *while* loops to continually ask until you get a correct answer.**"
   ]
  },
  {
   "cell_type": "code",
   "execution_count": 3,
   "metadata": {},
   "outputs": [],
   "source": [
    "def player_input():\n",
    "    inputa=True\n",
    "    b = (\"X\",\"O\")\n",
    "    while inputa == True:\n",
    "        a = input(\"Player 1: Select 'X' or 'O'\")\n",
    "        if a.upper() in b:\n",
    "            if a.upper() == \"X\":\n",
    "                return (\"X\",\"O\")\n",
    "            else:\n",
    "                return (\"O\",\"X\")\n",
    "            inputa = False\n",
    "        else:\n",
    "            print(\"invalid input\")\n",
    "            inputa = True\n",
    "            \n",
    "    \n"
   ]
  },
  {
   "cell_type": "markdown",
   "metadata": {},
   "source": [
    "**TEST Step 2:** run the function to make sure it returns the desired output"
   ]
  },
  {
   "cell_type": "code",
   "execution_count": 4,
   "metadata": {},
   "outputs": [
    {
     "name": "stdin",
     "output_type": "stream",
     "text": [
      "Player 1: Select 'X' or 'O' x\n"
     ]
    },
    {
     "data": {
      "text/plain": [
       "('X', 'O')"
      ]
     },
     "execution_count": 4,
     "metadata": {},
     "output_type": "execute_result"
    }
   ],
   "source": [
    "player_input()"
   ]
  },
  {
   "cell_type": "markdown",
   "metadata": {},
   "source": [
    "**Step 3: Write a function that takes in the board list object, a marker ('X' or 'O'), and a desired position (number 1-9) and assigns it to the board.**"
   ]
  },
  {
   "cell_type": "code",
   "execution_count": 4,
   "metadata": {},
   "outputs": [],
   "source": [
    "def place_marker(board, marker, position):\n",
    "    pos = True\n",
    "    while pos==True:\n",
    "        positions = [\"1\",\"2\",\"3\",\"4\",\"5\",\"6\",\"7\",\"8\",\"9\"]\n",
    "        if  str(position) in positions:\n",
    "            board[(position)] = marker\n",
    "            pos = False\n",
    "        else:\n",
    "            print(\"invalid position\")\n",
    "            pos = True\n",
    "        "
   ]
  },
  {
   "cell_type": "markdown",
   "metadata": {},
   "source": [
    "**TEST Step 3:** run the place marker function using test parameters and display the modified board"
   ]
  },
  {
   "cell_type": "code",
   "execution_count": 5,
   "metadata": {},
   "outputs": [
    {
     "name": "stdout",
     "output_type": "stream",
     "text": [
      "   |   |\n",
      " X | O | X\n",
      "   |   |\n",
      "-------------\n",
      "   |   |\n",
      " O | X |  \n",
      "   |   |\n",
      "-------------\n",
      "   |   |\n",
      " X | O | X\n",
      "   |   |\n"
     ]
    }
   ],
   "source": [
    "place_marker(test_board,' ',6)\n",
    "display_board(test_board)"
   ]
  },
  {
   "cell_type": "markdown",
   "metadata": {},
   "source": [
    "**Step 4: Write a function that takes in a board and a mark (X or O) and then checks to see if that mark has won. **"
   ]
  },
  {
   "cell_type": "code",
   "execution_count": 14,
   "metadata": {},
   "outputs": [],
   "source": [
    "def win_check(board, mark):\n",
    "    if ((board[1] == board[2] == board [3] == mark) or \n",
    "    (board[4] == board[5] == board[6] == mark) or\n",
    "    (board[7] == board[8] == board[9] == mark) or\n",
    "    (board[1] == board[4] == board[7] == mark) or\n",
    "    (board[2] == board[5] == board[8] == mark) or\n",
    "    (board[3] == board[6] == board[9] == mark) or\n",
    "    (board[1] == board[5] == board[9] == mark) or\n",
    "    (board[3] == board[5] == board[7] == mark)):\n",
    "        return True\n",
    "        \n",
    "    \n",
    "    else:\n",
    "        return False"
   ]
  },
  {
   "cell_type": "markdown",
   "metadata": {},
   "source": [
    "**TEST Step 4:** run the win_check function against our test_board - it should return True"
   ]
  },
  {
   "cell_type": "code",
   "execution_count": 7,
   "metadata": {},
   "outputs": [
    {
     "data": {
      "text/plain": [
       "False"
      ]
     },
     "execution_count": 7,
     "metadata": {},
     "output_type": "execute_result"
    }
   ],
   "source": [
    "win_check(test_board,'X')"
   ]
  },
  {
   "cell_type": "markdown",
   "metadata": {},
   "source": [
    "**Step 5: Write a function that uses the random module to randomly decide which player goes first. You may want to lookup random.randint() Return a string of which player went first.**"
   ]
  },
  {
   "cell_type": "code",
   "execution_count": 8,
   "metadata": {},
   "outputs": [],
   "source": [
    "import random\n",
    "\n",
    "def choose_first():\n",
    "    a = str(random.choice([1,2]))\n",
    "    return \"Player\" + a"
   ]
  },
  {
   "cell_type": "markdown",
   "metadata": {},
   "source": [
    "**Step 6: Write a function that returns a boolean indicating whether a space on the board is freely available.**"
   ]
  },
  {
   "cell_type": "code",
   "execution_count": 9,
   "metadata": {},
   "outputs": [],
   "source": [
    "def space_check(board, position):\n",
    "    \n",
    "        if board[position] == \" \":\n",
    "            return True\n",
    "        else:\n",
    "            return False"
   ]
  },
  {
   "cell_type": "markdown",
   "metadata": {},
   "source": [
    "**Step 7: Write a function that checks if the board is full and returns a boolean value. True if full, False otherwise.**"
   ]
  },
  {
   "cell_type": "code",
   "execution_count": 10,
   "metadata": {},
   "outputs": [],
   "source": [
    "def full_board_check(board):\n",
    "    for i in board:\n",
    "        if i == \" \":\n",
    "            return True\n",
    "    else:\n",
    "        return False\n",
    "#board = [\"@\",\"s\",\"c \",\"c \",\" \",\"s\",\"c \",\"c \",\"c \",\"c \"]\n",
    "   \n",
    "#full_board_check(board1)"
   ]
  },
  {
   "cell_type": "markdown",
   "metadata": {},
   "source": [
    "**Step 8: Write a function that asks for a player's next position (as a number 1-9) and then uses the function from step 6 to check if it's a free position. If it is, then return the position for later use.**"
   ]
  },
  {
   "cell_type": "code",
   "execution_count": 11,
   "metadata": {},
   "outputs": [],
   "source": [
    "def player_choice(board,space_check):\n",
    "\n",
    "    aaa = True\n",
    "    abc = [\"1\",\"2\",\"3\",\"4\",\"5\",\"6\",\"7\",\"8\",\"9\"]\n",
    "    while aaa == True:\n",
    "        nextpos = input(\"Enter positon: \")\n",
    "                \n",
    "        if (nextpos in abc):\n",
    "            if (space_check(board,int(nextpos))) ==True:\n",
    "                return int(nextpos)\n",
    "                aaa = False\n",
    "            else:\n",
    "                print(\"choose other position\")\n",
    "                aaa = True\n",
    "        else:\n",
    "            print(\"invalid input\")\n",
    "            aaa = True"
   ]
  },
  {
   "cell_type": "markdown",
   "metadata": {},
   "source": [
    "**Step 9: Write a function that asks the player if they want to play again and returns a boolean True if they do want to play again.**"
   ]
  },
  {
   "cell_type": "code",
   "execution_count": 12,
   "metadata": {},
   "outputs": [
    {
     "name": "stdin",
     "output_type": "stream",
     "text": [
      "If you want to play again, Enter Yes! g\n"
     ]
    },
    {
     "data": {
      "text/plain": [
       "False"
      ]
     },
     "execution_count": 12,
     "metadata": {},
     "output_type": "execute_result"
    }
   ],
   "source": [
    "def replay():\n",
    "    again = input(\"If you want to play again, Enter Yes!\")\n",
    "    if  again[0].upper() == \"Y\":\n",
    "        clear_output()\n",
    "        return True\n",
    "    else:\n",
    "        return False\n",
    "replay()"
   ]
  },
  {
   "cell_type": "markdown",
   "metadata": {
    "collapsed": true,
    "jupyter": {
     "outputs_hidden": true
    }
   },
   "source": [
    "**Step 10: Here comes the hard part! Use while loops and the functions you've made to run the game!**"
   ]
  },
  {
   "cell_type": "code",
   "execution_count": null,
   "metadata": {},
   "outputs": [
    {
     "name": "stdout",
     "output_type": "stream",
     "text": [
      "Welcome to Tic Tac Toe!\n",
      "   |   |\n",
      "   |   |  \n",
      "   |   |\n",
      "-------------\n",
      "   |   |\n",
      "   |   |  \n",
      "   |   |\n",
      "-------------\n",
      "   |   |\n",
      "   |   |  \n",
      "   |   |\n"
     ]
    }
   ],
   "source": [
    "game_on = True\n",
    "while game_on == True:\n",
    "    board1 = [\"@\",\" \",\" \",\" \",\" \",\" \",\" \",\" \",\" \",\" \"]\n",
    "    print('Welcome to Tic Tac Toe!')\n",
    "    gg = full_board_check(board1)\n",
    "    choose = int(choose_first()[-1])\n",
    "    display_board(board1)\n",
    "    xo = player_input()\n",
    "    while gg == True:\n",
    "        print(\"Player 1:\")\n",
    "        position_for_1 =player_choice(board1,space_check)\n",
    "        place_marker(board1,xo[0],position_for_1)\n",
    "        display_board(board1)\n",
    "        gg = full_board_check(board1)\n",
    "        if gg == False:\n",
    "            print(\"Game Draw\")\n",
    "            game_on = replay()\n",
    "            break\n",
    "            \n",
    "\n",
    "    \n",
    "        gh = win_check(board1,xo[0])\n",
    "        if gh == True:\n",
    "            print(\"Player 1 won\")\n",
    "            game_on = replay()\n",
    "            break\n",
    "            \n",
    "\n",
    "\n",
    "        print(\"Player 2:\")\n",
    "        position_for_2 = player_choice(board1,space_check)\n",
    "        place_marker(board1,xo[1],position_for_2)\n",
    "        display_board(board1)\n",
    "        gg = full_board_check(board1)\n",
    "        if gg == False:\n",
    "            print(\"Game Draw\")\n",
    "            game_on = replay()\n",
    "            break\n",
    "\n",
    "        gf = win_check(board1,xo[1])\n",
    "        if gf == True:\n",
    "            print(\"Player 2 won\")\n",
    "            game_on = replay()\n",
    "            brea\n",
    "\n",
    "   # else:\n",
    "    #    print(\"Game Draw\")\n",
    "        \n",
    "     #   game_on = replay()\n",
    "      #  break\n",
    "    \n",
    "        \n",
    "        \n",
    "    \n",
    "    # Set the game up here\n",
    "    #pass\n",
    "\n",
    "    #while game_on:\n",
    "        #Player 1 Turn\n",
    "        \n",
    "        \n",
    "        # Player2's turn.\n",
    "            \n",
    "            #pass\n",
    "\n",
    "    #if not replay():\n",
    "        #break"
   ]
  },
  {
   "cell_type": "markdown",
   "metadata": {
    "collapsed": true,
    "jupyter": {
     "outputs_hidden": true
    }
   },
   "source": [
    "## Good Job!"
   ]
  }
 ],
 "metadata": {
  "kernelspec": {
   "display_name": "Python 3 (ipykernel)",
   "language": "python",
   "name": "python3"
  },
  "language_info": {
   "codemirror_mode": {
    "name": "ipython",
    "version": 3
   },
   "file_extension": ".py",
   "mimetype": "text/x-python",
   "name": "python",
   "nbconvert_exporter": "python",
   "pygments_lexer": "ipython3",
   "version": "3.10.12"
  }
 },
 "nbformat": 4,
 "nbformat_minor": 4
}
